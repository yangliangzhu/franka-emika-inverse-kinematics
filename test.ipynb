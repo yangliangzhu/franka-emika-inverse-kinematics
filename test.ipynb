{
 "cells": [
  {
   "cell_type": "code",
   "execution_count": 2,
   "metadata": {},
   "outputs": [],
   "source": [
    "import numpy as np\n",
    "from panda import Panda\n",
    "from ik_ca import limit_joints\n",
    "from ik_ca import ik_ca, ik_ca_neg\n",
    "from ik_ca2 import ik_ca as ik_ca2\n",
    "from ik_ca2 import ik_ca_neg as ik_ca_neg2"
   ]
  },
  {
   "cell_type": "code",
   "execution_count": 76,
   "metadata": {},
   "outputs": [],
   "source": [
    "rob = Panda()\n",
    "q = np.random.randn(7)\n",
    "# 将随机生成的角度限制到franka的关节极限内\n",
    "q = limit_joints(q)"
   ]
  },
  {
   "cell_type": "code",
   "execution_count": 88,
   "metadata": {},
   "outputs": [],
   "source": [
    "# 先令2角为正\n",
    "q[1] = np.abs(q[1])"
   ]
  },
  {
   "cell_type": "code",
   "execution_count": 89,
   "metadata": {},
   "outputs": [],
   "source": [
    "# fk不挂载tool,如果挂载,乘一个常值矩阵换算到flange即可\n",
    "T = rob.forward_flange(q)"
   ]
  },
  {
   "cell_type": "code",
   "execution_count": 90,
   "metadata": {},
   "outputs": [],
   "source": [
    "iks = [ik_ca, ik_ca_neg, ik_ca2, ik_ca_neg2]"
   ]
  },
  {
   "cell_type": "code",
   "execution_count": 91,
   "metadata": {},
   "outputs": [
    {
     "name": "stdout",
     "output_type": "stream",
     "text": [
      "反解有效：True, 分支正确：True\n",
      "反解有效：True, 分支正确：False\n",
      "反解有效：True, 分支正确：False\n",
      "反解有效：True, 分支正确：False\n"
     ]
    }
   ],
   "source": [
    "# 验证，在分支1或3\n",
    "for ik in iks:\n",
    "    qi = ik(T, q[-1])\n",
    "    qi = limit_joints(qi)\n",
    "    Ti = rob.forward_flange(qi)\n",
    "    ik_valid = np.allclose(Ti, T)\n",
    "    on_this_branch = np.allclose(qi, q)\n",
    "    print('反解有效：{}, 分支正确：{}'.format(ik_valid, on_this_branch))"
   ]
  },
  {
   "cell_type": "code",
   "execution_count": 92,
   "metadata": {},
   "outputs": [],
   "source": [
    "# 再令2角为负\n",
    "q[1] = -np.abs(q[1])\n",
    "T = rob.forward_flange(q)"
   ]
  },
  {
   "cell_type": "code",
   "execution_count": 93,
   "metadata": {},
   "outputs": [
    {
     "name": "stdout",
     "output_type": "stream",
     "text": [
      "反解有效：True, 分支正确：False\n",
      "反解有效：True, 分支正确：True\n",
      "反解有效：True, 分支正确：False\n",
      "反解有效：True, 分支正确：False\n"
     ]
    }
   ],
   "source": [
    "# 验证，在分支2或4\n",
    "for ik in iks:\n",
    "    qi = ik(T, q[-1])\n",
    "    qi = limit_joints(qi)\n",
    "    Ti = rob.forward_flange(qi)\n",
    "    ik_valid = np.allclose(Ti, T)\n",
    "    on_this_branch = np.allclose(qi, q)\n",
    "    print('反解有效：{}, 分支正确：{}'.format(ik_valid, on_this_branch))"
   ]
  },
  {
   "cell_type": "code",
   "execution_count": 94,
   "metadata": {},
   "outputs": [],
   "source": [
    "# %timeit rob.forward_flange(q)"
   ]
  },
  {
   "cell_type": "code",
   "execution_count": 95,
   "metadata": {},
   "outputs": [],
   "source": [
    "# %timeit ik(T, q[-1])"
   ]
  }
 ],
 "metadata": {
  "kernelspec": {
   "display_name": "mpc",
   "language": "python",
   "name": "python3"
  },
  "language_info": {
   "codemirror_mode": {
    "name": "ipython",
    "version": 3
   },
   "file_extension": ".py",
   "mimetype": "text/x-python",
   "name": "python",
   "nbconvert_exporter": "python",
   "pygments_lexer": "ipython3",
   "version": "3.7.11"
  },
  "orig_nbformat": 4,
  "vscode": {
   "interpreter": {
    "hash": "63757ea80afaa0a7e4165097f8d931de370f4df0668329d5843bb872441cd9d9"
   }
  }
 },
 "nbformat": 4,
 "nbformat_minor": 2
}
